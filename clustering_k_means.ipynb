{
 "cells": [
  {
   "cell_type": "markdown",
   "metadata": {},
   "source": [
    "# Clustering with K-Means\n",
    "- Select Area 1 for analysis because it has the highest concentration of crime. "
   ]
  },
  {
   "cell_type": "code",
   "execution_count": 1,
   "metadata": {},
   "outputs": [],
   "source": [
    "from pyspark.sql import functions as F\n",
    "from sklearn.cluster import DBSCAN, KMeans\n",
    "import matplotlib.pyplot as plt\n",
    "from sklearn.neighbors import NearestNeighbors\n",
    "from sklearn.preprocessing import StandardScaler\n",
    "\n",
    "import folium\n",
    "from folium.plugins import HeatMap, MarkerCluster, AntPath\n",
    "from pyspark.ml.feature import StringIndexer, OneHotEncoder\n",
    "import matplotlib.pyplot as plt\n",
    "import pandas as pd\n",
    "import seaborn as sns\n",
    "import numpy as np\n",
    "from scipy.stats import gaussian_kde\n"
   ]
  },
  {
   "cell_type": "code",
   "execution_count": 2,
   "metadata": {},
   "outputs": [],
   "source": [
    "%load_ext autoreload\n",
    "%autoreload 2\n",
    "import sys; \n",
    "import sys; sys.path.insert(0, 'lib/')\n",
    "from libs import utils, genetic_algo"
   ]
  },
  {
   "cell_type": "code",
   "execution_count": 3,
   "metadata": {},
   "outputs": [
    {
     "name": "stderr",
     "output_type": "stream",
     "text": [
      "Setting default log level to \"WARN\".\n",
      "To adjust logging level use sc.setLogLevel(newLevel). For SparkR, use setLogLevel(newLevel).\n",
      "24/11/08 21:37:31 WARN NativeCodeLoader: Unable to load native-hadoop library for your platform... using builtin-java classes where applicable\n",
      "                                                                                \r"
     ]
    },
    {
     "name": "stderr",
     "output_type": "stream",
     "text": [
      "----------------------------------------\n",
      "Exception occurred during processing of request from ('127.0.0.1', 57704)\n",
      "Traceback (most recent call last):\n",
      "  File \"/Users/siowchuen/anaconda3/envs/pyspark_env/lib/python3.12/socketserver.py\", line 318, in _handle_request_noblock\n",
      "    self.process_request(request, client_address)\n",
      "  File \"/Users/siowchuen/anaconda3/envs/pyspark_env/lib/python3.12/socketserver.py\", line 349, in process_request\n",
      "    self.finish_request(request, client_address)\n",
      "  File \"/Users/siowchuen/anaconda3/envs/pyspark_env/lib/python3.12/socketserver.py\", line 362, in finish_request\n",
      "    self.RequestHandlerClass(request, client_address, self)\n",
      "  File \"/Users/siowchuen/anaconda3/envs/pyspark_env/lib/python3.12/socketserver.py\", line 761, in __init__\n",
      "    self.handle()\n",
      "  File \"/Users/siowchuen/anaconda3/envs/pyspark_env/lib/python3.12/site-packages/pyspark/accumulators.py\", line 295, in handle\n",
      "    poll(accum_updates)\n",
      "  File \"/Users/siowchuen/anaconda3/envs/pyspark_env/lib/python3.12/site-packages/pyspark/accumulators.py\", line 267, in poll\n",
      "    if self.rfile in r and func():\n",
      "                           ^^^^^^\n",
      "  File \"/Users/siowchuen/anaconda3/envs/pyspark_env/lib/python3.12/site-packages/pyspark/accumulators.py\", line 271, in accum_updates\n",
      "    num_updates = read_int(self.rfile)\n",
      "                  ^^^^^^^^^^^^^^^^^^^^\n",
      "  File \"/Users/siowchuen/anaconda3/envs/pyspark_env/lib/python3.12/site-packages/pyspark/serializers.py\", line 596, in read_int\n",
      "    raise EOFError\n",
      "EOFError\n",
      "----------------------------------------\n"
     ]
    }
   ],
   "source": [
    "data_path = \"data/Crime_Data_from_2020_to_Present_20241013.csv\"\n",
    "# Read and Clean Data\n",
    "spark = utils.start_spark()\n",
    "df = utils.prepare_data(spark, data_path)\n",
    "# Additional feature engineering - add more features\n",
    "df = utils.feature_engineering(df)\n",
    "columns_drop = [\"AREA NAME\", \n",
    "                \"Rpt Dist No\", \n",
    "                \"Part 1-2\", \n",
    "                \"Crm Cd\", \n",
    "                \"Crm Cd Desc\", \n",
    "                \"Mocodes\", \n",
    "                \"Premis Cd\",\n",
    "                \"Premis Desc\",\n",
    "                \"Weapon Used Cd\",\n",
    "                \"Weapon Desc\",\n",
    "                \"Status Desc\",\n",
    "                \"LOCATION\",\n",
    "                \"age_group\",\n",
    "                \"Date Rptd\",\n",
    "                \"DATE OCC\",\n",
    "                \"TIME OCC\"]\n",
    "df_dropped = utils.drop_columns(df, columns_drop)\n",
    "df_clean = df_dropped.dropna(subset=[\"Vict Age\"])"
   ]
  },
  {
   "cell_type": "code",
   "execution_count": 4,
   "metadata": {},
   "outputs": [
    {
     "name": "stdout",
     "output_type": "stream",
     "text": [
      "+----+--------+--------+--------------------+------+-------+---------+-------------------+--------+---------+-------+------------------+\n",
      "|AREA|Vict Age|Vict Sex|        Vict Descent|Status|    LAT|      LON|       Occ DateTime|Year OCC|Month OCC|Day OCC|          Category|\n",
      "+----+--------+--------+--------------------+------+-------+---------+-------------------+--------+---------+-------+------------------+\n",
      "|   1|      47|       M|               Other|    IC|34.0444|-118.2628|2020-02-08 18:00:00|    2020|        2|      8|              BTFV|\n",
      "|   3|      19|       X|             Unknown|    IC| 34.021|-118.3002|2020-11-04 17:00:00|    2020|       11|      4|       OTHER THEFT|\n",
      "|   9|      19|       M|               Other|    IC|34.1576|-118.4387|2020-03-10 20:37:00|    2020|        3|     10|       OTHER THEFT|\n",
      "|   6|      28|       M|Hispanic/Latin/Me...|    IC|34.0944|-118.3277|2020-08-17 12:00:00|    2020|        8|     17|    IDENTITY THEFT|\n",
      "|  18|      41|       M|Hispanic/Latin/Me...|    IC|33.9467|-118.2463|2020-12-01 23:00:00|    2020|       12|      1|    IDENTITY THEFT|\n",
      "|   1|      25|       M|Hispanic/Latin/Me...|    IC|34.0415| -118.262|2020-07-03 09:00:00|    2020|        7|      3|    IDENTITY THEFT|\n",
      "|   3|      27|       F|               Black|    IC|34.0335|-118.3537|2020-05-12 11:10:00|    2020|        5|     12|    IDENTITY THEFT|\n",
      "|  13|      24|       F|               Black|    IC|33.9911|-118.2521|2020-12-09 14:00:00|    2020|       12|      9|    IDENTITY THEFT|\n",
      "|  19|      26|       M|Hispanic/Latin/Me...|    IC|34.2336|-118.4535|2020-12-31 12:20:00|    2020|       12|     31|    SIMPLE ASSAULT|\n",
      "|  18|      26|       M|               Black|    IC|33.9492|-118.2739|2020-07-01 13:35:00|    2020|        7|      1|    IDENTITY THEFT|\n",
      "|  19|       8|       F|Hispanic/Latin/Me...|    IC|34.2285|-118.4258|2020-10-01 00:01:00|    2020|       10|      1|              RAPE|\n",
      "|   2|       7|       F|               White|    IC|34.0868|-118.2991|2020-02-01 08:00:00|    2020|        2|      1|All Other Offenses|\n",
      "|   3|      56|       M|               Black|    IC|34.0103|-118.3456|2020-02-02 03:15:00|    2020|        2|      2|    IDENTITY THEFT|\n",
      "|  18|      22|       F|               Black|    IC|33.9551|-118.2814|2020-07-01 08:05:00|    2020|        7|      1|    IDENTITY THEFT|\n",
      "|  13|      23|       M|               Black|    IC|34.0112|-118.2716|2020-01-09 12:00:00|    2020|        1|      9|    IDENTITY THEFT|\n",
      "|   7|      31|       F|               Other|    AA|34.0452|-118.3351|2020-11-27 18:00:00|    2020|       11|     27|     AGG. ASSAULTS|\n",
      "|  10|      30|       F|               Other|    IC| 34.166|-118.5033|2020-01-01 00:01:00|    2020|        1|      1|All Other Offenses|\n",
      "|   7|      57|       F|               Black|    IC|34.0608|-118.3359|2020-02-11 12:00:00|    2020|        2|     11|       OTHER THEFT|\n",
      "|   8|      56|       F|               White|    IC|34.0677| -118.552|2020-01-01 08:00:00|    2020|        1|      1|       OTHER THEFT|\n",
      "|  19|      12|       F|Hispanic/Latin/Me...|    AO|34.2246|-118.4654|2020-03-15 12:00:00|    2020|        3|     15|All Other Offenses|\n",
      "+----+--------+--------+--------------------+------+-------+---------+-------------------+--------+---------+-------+------------------+\n",
      "only showing top 20 rows\n",
      "\n"
     ]
    },
    {
     "name": "stderr",
     "output_type": "stream",
     "text": [
      "                                                                                \r"
     ]
    }
   ],
   "source": [
    "df_clean.show()"
   ]
  },
  {
   "cell_type": "code",
   "execution_count": 5,
   "metadata": {},
   "outputs": [
    {
     "name": "stderr",
     "output_type": "stream",
     "text": [
      "24/11/08 21:37:47 WARN GarbageCollectionMetrics: To enable non-built-in garbage collector(s) List(G1 Concurrent GC), users should configure it(them) to spark.eventLog.gcMetrics.youngGenerationGarbageCollectors or spark.eventLog.gcMetrics.oldGenerationGarbageCollectors\n"
     ]
    },
    {
     "data": {
      "text/html": [
       "<div>\n",
       "<style scoped>\n",
       "    .dataframe tbody tr th:only-of-type {\n",
       "        vertical-align: middle;\n",
       "    }\n",
       "\n",
       "    .dataframe tbody tr th {\n",
       "        vertical-align: top;\n",
       "    }\n",
       "\n",
       "    .dataframe thead th {\n",
       "        text-align: right;\n",
       "    }\n",
       "</style>\n",
       "<table border=\"1\" class=\"dataframe\">\n",
       "  <thead>\n",
       "    <tr style=\"text-align: right;\">\n",
       "      <th></th>\n",
       "      <th>AREA</th>\n",
       "      <th>Vict Age</th>\n",
       "      <th>Vict Sex</th>\n",
       "      <th>Vict Descent</th>\n",
       "      <th>Status</th>\n",
       "      <th>LAT</th>\n",
       "      <th>LON</th>\n",
       "      <th>Occ DateTime</th>\n",
       "      <th>Year OCC</th>\n",
       "      <th>Month OCC</th>\n",
       "      <th>Day OCC</th>\n",
       "      <th>Category</th>\n",
       "    </tr>\n",
       "  </thead>\n",
       "  <tbody>\n",
       "    <tr>\n",
       "      <th>0</th>\n",
       "      <td>1</td>\n",
       "      <td>47</td>\n",
       "      <td>M</td>\n",
       "      <td>Other</td>\n",
       "      <td>IC</td>\n",
       "      <td>34.0444</td>\n",
       "      <td>-118.2628</td>\n",
       "      <td>2020-02-08 18:00:00</td>\n",
       "      <td>2020</td>\n",
       "      <td>2</td>\n",
       "      <td>8</td>\n",
       "      <td>BTFV</td>\n",
       "    </tr>\n",
       "    <tr>\n",
       "      <th>1</th>\n",
       "      <td>3</td>\n",
       "      <td>19</td>\n",
       "      <td>X</td>\n",
       "      <td>Unknown</td>\n",
       "      <td>IC</td>\n",
       "      <td>34.0210</td>\n",
       "      <td>-118.3002</td>\n",
       "      <td>2020-11-04 17:00:00</td>\n",
       "      <td>2020</td>\n",
       "      <td>11</td>\n",
       "      <td>4</td>\n",
       "      <td>OTHER THEFT</td>\n",
       "    </tr>\n",
       "    <tr>\n",
       "      <th>2</th>\n",
       "      <td>9</td>\n",
       "      <td>19</td>\n",
       "      <td>M</td>\n",
       "      <td>Other</td>\n",
       "      <td>IC</td>\n",
       "      <td>34.1576</td>\n",
       "      <td>-118.4387</td>\n",
       "      <td>2020-03-10 20:37:00</td>\n",
       "      <td>2020</td>\n",
       "      <td>3</td>\n",
       "      <td>10</td>\n",
       "      <td>OTHER THEFT</td>\n",
       "    </tr>\n",
       "    <tr>\n",
       "      <th>3</th>\n",
       "      <td>6</td>\n",
       "      <td>28</td>\n",
       "      <td>M</td>\n",
       "      <td>Hispanic/Latin/Mexican</td>\n",
       "      <td>IC</td>\n",
       "      <td>34.0944</td>\n",
       "      <td>-118.3277</td>\n",
       "      <td>2020-08-17 12:00:00</td>\n",
       "      <td>2020</td>\n",
       "      <td>8</td>\n",
       "      <td>17</td>\n",
       "      <td>IDENTITY THEFT</td>\n",
       "    </tr>\n",
       "    <tr>\n",
       "      <th>4</th>\n",
       "      <td>18</td>\n",
       "      <td>41</td>\n",
       "      <td>M</td>\n",
       "      <td>Hispanic/Latin/Mexican</td>\n",
       "      <td>IC</td>\n",
       "      <td>33.9467</td>\n",
       "      <td>-118.2463</td>\n",
       "      <td>2020-12-01 23:00:00</td>\n",
       "      <td>2020</td>\n",
       "      <td>12</td>\n",
       "      <td>1</td>\n",
       "      <td>IDENTITY THEFT</td>\n",
       "    </tr>\n",
       "  </tbody>\n",
       "</table>\n",
       "</div>"
      ],
      "text/plain": [
       "   AREA  Vict Age Vict Sex            Vict Descent Status      LAT       LON  \\\n",
       "0     1        47        M                   Other     IC  34.0444 -118.2628   \n",
       "1     3        19        X                 Unknown     IC  34.0210 -118.3002   \n",
       "2     9        19        M                   Other     IC  34.1576 -118.4387   \n",
       "3     6        28        M  Hispanic/Latin/Mexican     IC  34.0944 -118.3277   \n",
       "4    18        41        M  Hispanic/Latin/Mexican     IC  33.9467 -118.2463   \n",
       "\n",
       "         Occ DateTime  Year OCC  Month OCC  Day OCC        Category  \n",
       "0 2020-02-08 18:00:00      2020          2        8            BTFV  \n",
       "1 2020-11-04 17:00:00      2020         11        4     OTHER THEFT  \n",
       "2 2020-03-10 20:37:00      2020          3       10     OTHER THEFT  \n",
       "3 2020-08-17 12:00:00      2020          8       17  IDENTITY THEFT  \n",
       "4 2020-12-01 23:00:00      2020         12        1  IDENTITY THEFT  "
      ]
     },
     "execution_count": 5,
     "metadata": {},
     "output_type": "execute_result"
    }
   ],
   "source": [
    "df_pd = df_clean.toPandas()\n",
    "df_pd.head()"
   ]
  },
  {
   "cell_type": "code",
   "execution_count": 6,
   "metadata": {},
   "outputs": [
    {
     "data": {
      "text/html": [
       "<div>\n",
       "<style scoped>\n",
       "    .dataframe tbody tr th:only-of-type {\n",
       "        vertical-align: middle;\n",
       "    }\n",
       "\n",
       "    .dataframe tbody tr th {\n",
       "        vertical-align: top;\n",
       "    }\n",
       "\n",
       "    .dataframe thead th {\n",
       "        text-align: right;\n",
       "    }\n",
       "</style>\n",
       "<table border=\"1\" class=\"dataframe\">\n",
       "  <thead>\n",
       "    <tr style=\"text-align: right;\">\n",
       "      <th></th>\n",
       "      <th>Category</th>\n",
       "    </tr>\n",
       "    <tr>\n",
       "      <th>AREA</th>\n",
       "      <th></th>\n",
       "    </tr>\n",
       "  </thead>\n",
       "  <tbody>\n",
       "    <tr>\n",
       "      <th>1</th>\n",
       "      <td>50751</td>\n",
       "    </tr>\n",
       "    <tr>\n",
       "      <th>3</th>\n",
       "      <td>46727</td>\n",
       "    </tr>\n",
       "    <tr>\n",
       "      <th>12</th>\n",
       "      <td>45617</td>\n",
       "    </tr>\n",
       "    <tr>\n",
       "      <th>14</th>\n",
       "      <td>41072</td>\n",
       "    </tr>\n",
       "    <tr>\n",
       "      <th>6</th>\n",
       "      <td>38277</td>\n",
       "    </tr>\n",
       "    <tr>\n",
       "      <th>18</th>\n",
       "      <td>36078</td>\n",
       "    </tr>\n",
       "    <tr>\n",
       "      <th>15</th>\n",
       "      <td>35436</td>\n",
       "    </tr>\n",
       "    <tr>\n",
       "      <th>20</th>\n",
       "      <td>35432</td>\n",
       "    </tr>\n",
       "    <tr>\n",
       "      <th>7</th>\n",
       "      <td>34895</td>\n",
       "    </tr>\n",
       "    <tr>\n",
       "      <th>21</th>\n",
       "      <td>33747</td>\n",
       "    </tr>\n",
       "    <tr>\n",
       "      <th>13</th>\n",
       "      <td>32891</td>\n",
       "    </tr>\n",
       "    <tr>\n",
       "      <th>9</th>\n",
       "      <td>32780</td>\n",
       "    </tr>\n",
       "    <tr>\n",
       "      <th>8</th>\n",
       "      <td>32550</td>\n",
       "    </tr>\n",
       "    <tr>\n",
       "      <th>2</th>\n",
       "      <td>32434</td>\n",
       "    </tr>\n",
       "    <tr>\n",
       "      <th>10</th>\n",
       "      <td>30441</td>\n",
       "    </tr>\n",
       "    <tr>\n",
       "      <th>19</th>\n",
       "      <td>29551</td>\n",
       "    </tr>\n",
       "    <tr>\n",
       "      <th>11</th>\n",
       "      <td>28747</td>\n",
       "    </tr>\n",
       "    <tr>\n",
       "      <th>17</th>\n",
       "      <td>28625</td>\n",
       "    </tr>\n",
       "    <tr>\n",
       "      <th>5</th>\n",
       "      <td>27288</td>\n",
       "    </tr>\n",
       "    <tr>\n",
       "      <th>16</th>\n",
       "      <td>24183</td>\n",
       "    </tr>\n",
       "    <tr>\n",
       "      <th>4</th>\n",
       "      <td>23679</td>\n",
       "    </tr>\n",
       "  </tbody>\n",
       "</table>\n",
       "</div>"
      ],
      "text/plain": [
       "      Category\n",
       "AREA          \n",
       "1        50751\n",
       "3        46727\n",
       "12       45617\n",
       "14       41072\n",
       "6        38277\n",
       "18       36078\n",
       "15       35436\n",
       "20       35432\n",
       "7        34895\n",
       "21       33747\n",
       "13       32891\n",
       "9        32780\n",
       "8        32550\n",
       "2        32434\n",
       "10       30441\n",
       "19       29551\n",
       "11       28747\n",
       "17       28625\n",
       "5        27288\n",
       "16       24183\n",
       "4        23679"
      ]
     },
     "execution_count": 6,
     "metadata": {},
     "output_type": "execute_result"
    }
   ],
   "source": [
    "df_clean_lat_lon[[\"LAT\", \"LON\", \"Category\"]].groupby([\"LAT\", \"LON\"]).count().sort_values(by=\"Category\", ascending=False)\n",
    "df_clean_lat_lon[[\"AREA\", \"Category\"]].groupby(\"AREA\").count().sort_values(by=\"Category\", ascending=False)"
   ]
  },
  {
   "cell_type": "markdown",
   "metadata": {},
   "source": [
    "## Focusing on Area 1"
   ]
  },
  {
   "cell_type": "code",
   "execution_count": 21,
   "metadata": {},
   "outputs": [],
   "source": [
    "df_central = df_clean_lat_lon[df_clean_lat_lon[\"AREA\"]==1]\n",
    "# removing 2024 as the data for 2024 is incomplete might affect the analysis\n",
    "df_central = df_central[df_central[\"Year OCC\"]!=2024]\n",
    "# dropping the Vict Sex, Vict Descent, Status but keeping the category\n",
    "df_clustering = df_central[[\"LAT\", \"LON\", \"Occ DateTime\", \"Year OCC\", \"Month OCC\", \"Day OCC\", \"Category\"]]\n"
   ]
  },
  {
   "cell_type": "code",
   "execution_count": 22,
   "metadata": {},
   "outputs": [
    {
     "name": "stderr",
     "output_type": "stream",
     "text": [
      "/var/folders/pf/n3d61f6d37g3nzd2rjz424b40000gn/T/ipykernel_62333/4252708684.py:2: SettingWithCopyWarning: \n",
      "A value is trying to be set on a copy of a slice from a DataFrame.\n",
      "Try using .loc[row_indexer,col_indexer] = value instead\n",
      "\n",
      "See the caveats in the documentation: https://pandas.pydata.org/pandas-docs/stable/user_guide/indexing.html#returning-a-view-versus-a-copy\n",
      "  df_clustering[\"Occ DateTime\"] = pd.to_datetime(df_clustering[\"Occ DateTime\"])\n",
      "/var/folders/pf/n3d61f6d37g3nzd2rjz424b40000gn/T/ipykernel_62333/4252708684.py:3: SettingWithCopyWarning: \n",
      "A value is trying to be set on a copy of a slice from a DataFrame.\n",
      "Try using .loc[row_indexer,col_indexer] = value instead\n",
      "\n",
      "See the caveats in the documentation: https://pandas.pydata.org/pandas-docs/stable/user_guide/indexing.html#returning-a-view-versus-a-copy\n",
      "  df_clustering[\"hour\"] = df_clustering[\"Occ DateTime\"].dt.hour\n",
      "/var/folders/pf/n3d61f6d37g3nzd2rjz424b40000gn/T/ipykernel_62333/4252708684.py:4: SettingWithCopyWarning: \n",
      "A value is trying to be set on a copy of a slice from a DataFrame.\n",
      "Try using .loc[row_indexer,col_indexer] = value instead\n",
      "\n",
      "See the caveats in the documentation: https://pandas.pydata.org/pandas-docs/stable/user_guide/indexing.html#returning-a-view-versus-a-copy\n",
      "  df_clustering[\"hour_sin\"] = np.sin(2*np.pi *df_clustering[\"hour\"]/24)\n",
      "/var/folders/pf/n3d61f6d37g3nzd2rjz424b40000gn/T/ipykernel_62333/4252708684.py:5: SettingWithCopyWarning: \n",
      "A value is trying to be set on a copy of a slice from a DataFrame.\n",
      "Try using .loc[row_indexer,col_indexer] = value instead\n",
      "\n",
      "See the caveats in the documentation: https://pandas.pydata.org/pandas-docs/stable/user_guide/indexing.html#returning-a-view-versus-a-copy\n",
      "  df_clustering[\"hour_cos\"] = np.cos(2*np.pi *df_clustering[\"hour\"]/24)\n"
     ]
    }
   ],
   "source": [
    "# Handle datatime\n",
    "df_clustering[\"Occ DateTime\"] = pd.to_datetime(df_clustering[\"Occ DateTime\"])\n",
    "df_clustering[\"hour\"] = df_clustering[\"Occ DateTime\"].dt.hour\n",
    "df_clustering[\"hour_sin\"] = np.sin(2*np.pi *df_clustering[\"hour\"]/24)\n",
    "df_clustering[\"hour_cos\"] = np.cos(2*np.pi *df_clustering[\"hour\"]/24)\n",
    "# Scaling the features\n",
    "scaler = StandardScaler()\n",
    "scaled_data = scaler.fit_transform(df_clustering[['Day OCC', 'hour_sin', 'hour_cos']])\n",
    "df_clustering = df_clustering[[\"LAT\", \"LON\", \"Year OCC\", \"Month OCC\", \"Day OCC\", \"Category\", \"hour_sin\", \"hour_cos\"]]"
   ]
  },
  {
   "cell_type": "code",
   "execution_count": 23,
   "metadata": {},
   "outputs": [
    {
     "name": "stdout",
     "output_type": "stream",
     "text": [
      "(46462, 8)\n",
      "(46462, 26)\n"
     ]
    }
   ],
   "source": [
    "print(df_clustering.shape)\n",
    "\n",
    "df_clustering_encoded = pd.get_dummies(df_clustering, columns=[\"Category\"], drop_first=True)\n",
    "print(df_clustering_encoded.shape)"
   ]
  },
  {
   "cell_type": "markdown",
   "metadata": {},
   "source": [
    "Do K-Means"
   ]
  },
  {
   "cell_type": "code",
   "execution_count": 26,
   "metadata": {},
   "outputs": [
    {
     "data": {
      "text/plain": [
       "array([1, 6, 6, ..., 5, 3, 6], dtype=int32)"
      ]
     },
     "execution_count": 26,
     "metadata": {},
     "output_type": "execute_result"
    }
   ],
   "source": [
    "n_clusters = 10\n",
    "kmeans_central = KMeans(n_clusters=n_clusters, random_state=42)\n",
    "kmeans_central.fit(df_clustering_encoded)\n"
   ]
  },
  {
   "cell_type": "code",
   "execution_count": 27,
   "metadata": {},
   "outputs": [
    {
     "data": {
      "text/html": [
       "<div>\n",
       "<style scoped>\n",
       "    .dataframe tbody tr th:only-of-type {\n",
       "        vertical-align: middle;\n",
       "    }\n",
       "\n",
       "    .dataframe tbody tr th {\n",
       "        vertical-align: top;\n",
       "    }\n",
       "\n",
       "    .dataframe thead th {\n",
       "        text-align: right;\n",
       "    }\n",
       "</style>\n",
       "<table border=\"1\" class=\"dataframe\">\n",
       "  <thead>\n",
       "    <tr style=\"text-align: right;\">\n",
       "      <th></th>\n",
       "      <th>LAT</th>\n",
       "      <th>LON</th>\n",
       "      <th>Year OCC</th>\n",
       "      <th>Month OCC</th>\n",
       "      <th>Day OCC</th>\n",
       "      <th>hour_sin</th>\n",
       "      <th>hour_cos</th>\n",
       "      <th>Category_AGG. ASSAULTS (DV)</th>\n",
       "      <th>Category_ARSON</th>\n",
       "      <th>Category_All Other Offenses</th>\n",
       "      <th>...</th>\n",
       "      <th>Category_MVT (GTA)</th>\n",
       "      <th>Category_OTHER THEFT</th>\n",
       "      <th>Category_PERSONAL THFT</th>\n",
       "      <th>Category_RAPE</th>\n",
       "      <th>Category_ROBBERY</th>\n",
       "      <th>Category_SIMPLE ASSAULT</th>\n",
       "      <th>Category_SIMPLE ASSAULT (DV)</th>\n",
       "      <th>Category_Trespassing</th>\n",
       "      <th>Category_Vandalism</th>\n",
       "      <th>cluster</th>\n",
       "    </tr>\n",
       "  </thead>\n",
       "  <tbody>\n",
       "    <tr>\n",
       "      <th>0</th>\n",
       "      <td>34.0444</td>\n",
       "      <td>-118.2628</td>\n",
       "      <td>2020</td>\n",
       "      <td>2</td>\n",
       "      <td>8</td>\n",
       "      <td>-1.000000</td>\n",
       "      <td>-1.836970e-16</td>\n",
       "      <td>False</td>\n",
       "      <td>False</td>\n",
       "      <td>False</td>\n",
       "      <td>...</td>\n",
       "      <td>False</td>\n",
       "      <td>False</td>\n",
       "      <td>False</td>\n",
       "      <td>False</td>\n",
       "      <td>False</td>\n",
       "      <td>False</td>\n",
       "      <td>False</td>\n",
       "      <td>False</td>\n",
       "      <td>False</td>\n",
       "      <td>1</td>\n",
       "    </tr>\n",
       "    <tr>\n",
       "      <th>5</th>\n",
       "      <td>34.0415</td>\n",
       "      <td>-118.2620</td>\n",
       "      <td>2020</td>\n",
       "      <td>7</td>\n",
       "      <td>3</td>\n",
       "      <td>0.707107</td>\n",
       "      <td>-7.071068e-01</td>\n",
       "      <td>False</td>\n",
       "      <td>False</td>\n",
       "      <td>False</td>\n",
       "      <td>...</td>\n",
       "      <td>False</td>\n",
       "      <td>False</td>\n",
       "      <td>False</td>\n",
       "      <td>False</td>\n",
       "      <td>False</td>\n",
       "      <td>False</td>\n",
       "      <td>False</td>\n",
       "      <td>False</td>\n",
       "      <td>False</td>\n",
       "      <td>6</td>\n",
       "    </tr>\n",
       "    <tr>\n",
       "      <th>50</th>\n",
       "      <td>34.0466</td>\n",
       "      <td>-118.2590</td>\n",
       "      <td>2020</td>\n",
       "      <td>7</td>\n",
       "      <td>1</td>\n",
       "      <td>0.258819</td>\n",
       "      <td>-9.659258e-01</td>\n",
       "      <td>False</td>\n",
       "      <td>False</td>\n",
       "      <td>False</td>\n",
       "      <td>...</td>\n",
       "      <td>False</td>\n",
       "      <td>False</td>\n",
       "      <td>False</td>\n",
       "      <td>False</td>\n",
       "      <td>False</td>\n",
       "      <td>False</td>\n",
       "      <td>False</td>\n",
       "      <td>False</td>\n",
       "      <td>False</td>\n",
       "      <td>6</td>\n",
       "    </tr>\n",
       "    <tr>\n",
       "      <th>101</th>\n",
       "      <td>34.0570</td>\n",
       "      <td>-118.2508</td>\n",
       "      <td>2020</td>\n",
       "      <td>8</td>\n",
       "      <td>27</td>\n",
       "      <td>-0.707107</td>\n",
       "      <td>7.071068e-01</td>\n",
       "      <td>True</td>\n",
       "      <td>False</td>\n",
       "      <td>False</td>\n",
       "      <td>...</td>\n",
       "      <td>False</td>\n",
       "      <td>False</td>\n",
       "      <td>False</td>\n",
       "      <td>False</td>\n",
       "      <td>False</td>\n",
       "      <td>False</td>\n",
       "      <td>False</td>\n",
       "      <td>False</td>\n",
       "      <td>False</td>\n",
       "      <td>0</td>\n",
       "    </tr>\n",
       "    <tr>\n",
       "      <th>117</th>\n",
       "      <td>34.0438</td>\n",
       "      <td>-118.2547</td>\n",
       "      <td>2020</td>\n",
       "      <td>4</td>\n",
       "      <td>10</td>\n",
       "      <td>0.500000</td>\n",
       "      <td>8.660254e-01</td>\n",
       "      <td>False</td>\n",
       "      <td>False</td>\n",
       "      <td>False</td>\n",
       "      <td>...</td>\n",
       "      <td>False</td>\n",
       "      <td>False</td>\n",
       "      <td>False</td>\n",
       "      <td>False</td>\n",
       "      <td>False</td>\n",
       "      <td>False</td>\n",
       "      <td>False</td>\n",
       "      <td>False</td>\n",
       "      <td>False</td>\n",
       "      <td>1</td>\n",
       "    </tr>\n",
       "  </tbody>\n",
       "</table>\n",
       "<p>5 rows × 27 columns</p>\n",
       "</div>"
      ],
      "text/plain": [
       "         LAT       LON  Year OCC  Month OCC  Day OCC  hour_sin      hour_cos  \\\n",
       "0    34.0444 -118.2628      2020          2        8 -1.000000 -1.836970e-16   \n",
       "5    34.0415 -118.2620      2020          7        3  0.707107 -7.071068e-01   \n",
       "50   34.0466 -118.2590      2020          7        1  0.258819 -9.659258e-01   \n",
       "101  34.0570 -118.2508      2020          8       27 -0.707107  7.071068e-01   \n",
       "117  34.0438 -118.2547      2020          4       10  0.500000  8.660254e-01   \n",
       "\n",
       "     Category_AGG. ASSAULTS (DV)  Category_ARSON  Category_All Other Offenses  \\\n",
       "0                          False           False                        False   \n",
       "5                          False           False                        False   \n",
       "50                         False           False                        False   \n",
       "101                         True           False                        False   \n",
       "117                        False           False                        False   \n",
       "\n",
       "     ...  Category_MVT (GTA)  Category_OTHER THEFT  Category_PERSONAL THFT   \\\n",
       "0    ...               False                 False                    False   \n",
       "5    ...               False                 False                    False   \n",
       "50   ...               False                 False                    False   \n",
       "101  ...               False                 False                    False   \n",
       "117  ...               False                 False                    False   \n",
       "\n",
       "     Category_RAPE  Category_ROBBERY  Category_SIMPLE ASSAULT  \\\n",
       "0            False             False                    False   \n",
       "5            False             False                    False   \n",
       "50           False             False                    False   \n",
       "101          False             False                    False   \n",
       "117          False             False                    False   \n",
       "\n",
       "     Category_SIMPLE ASSAULT (DV)  Category_Trespassing  Category_Vandalism  \\\n",
       "0                           False                 False               False   \n",
       "5                           False                 False               False   \n",
       "50                          False                 False               False   \n",
       "101                         False                 False               False   \n",
       "117                         False                 False               False   \n",
       "\n",
       "     cluster  \n",
       "0          1  \n",
       "5          6  \n",
       "50         6  \n",
       "101        0  \n",
       "117        1  \n",
       "\n",
       "[5 rows x 27 columns]"
      ]
     },
     "execution_count": 27,
     "metadata": {},
     "output_type": "execute_result"
    }
   ],
   "source": [
    "df_clustering_encoded[\"cluster\"] = kmeans_central.labels_\n",
    "df_clustering_encoded.head()"
   ]
  },
  {
   "cell_type": "code",
   "execution_count": 45,
   "metadata": {},
   "outputs": [],
   "source": [
    "df_clustering.head()\n",
    "df_spatial = df_clustering[[\"LAT\", \"LON\"]]\n"
   ]
  },
  {
   "cell_type": "code",
   "execution_count": 46,
   "metadata": {},
   "outputs": [],
   "source": [
    "wcss = []  # List to store WCSS for each k\n",
    "\n",
    "# Loop through a range of k values\n",
    "for k in range(1, 20):\n",
    "    kmeans = KMeans(n_clusters=k, random_state=42)\n",
    "    kmeans.fit(df_spatial)  # Fit K-means\n",
    "    wcss.append(kmeans.inertia_)  # Append WCSS (inertia) for this k"
   ]
  },
  {
   "cell_type": "code",
   "execution_count": 47,
   "metadata": {},
   "outputs": [
    {
     "data": {
      "image/png": "[encoded data removed]",
      "text/plain": [
       "<Figure size 640x480 with 1 Axes>"
      ]
     },
     "metadata": {},
     "output_type": "display_data"
    }
   ],
   "source": [
    "# Plotting the WCSS values for each k\n",
    "plt.plot(range(1, 20), wcss, marker='o')\n",
    "plt.xlabel(\"Number of Clusters (k)\")\n",
    "plt.ylabel(\"Within-Cluster Sum of Squares (WCSS)\")\n",
    "plt.title(\"Elbow Method for Optimal k\")\n",
    "plt.show()"
   ]
  },
  {
   "cell_type": "code",
   "execution_count": 52,
   "metadata": {},
   "outputs": [
    {
     "name": "stderr",
     "output_type": "stream",
     "text": [
      "/var/folders/pf/n3d61f6d37g3nzd2rjz424b40000gn/T/ipykernel_62333/2396172742.py:4: SettingWithCopyWarning: \n",
      "A value is trying to be set on a copy of a slice from a DataFrame.\n",
      "Try using .loc[row_indexer,col_indexer] = value instead\n",
      "\n",
      "See the caveats in the documentation: https://pandas.pydata.org/pandas-docs/stable/user_guide/indexing.html#returning-a-view-versus-a-copy\n",
      "  df_spatial[\"cluster\"] = kmeans_central.labels_\n"
     ]
    },
    {
     "data": {
      "text/html": [
       "<div>\n",
       "<style scoped>\n",
       "    .dataframe tbody tr th:only-of-type {\n",
       "        vertical-align: middle;\n",
       "    }\n",
       "\n",
       "    .dataframe tbody tr th {\n",
       "        vertical-align: top;\n",
       "    }\n",
       "\n",
       "    .dataframe thead th {\n",
       "        text-align: right;\n",
       "    }\n",
       "</style>\n",
       "<table border=\"1\" class=\"dataframe\">\n",
       "  <thead>\n",
       "    <tr style=\"text-align: right;\">\n",
       "      <th></th>\n",
       "      <th>LAT</th>\n",
       "      <th>LON</th>\n",
       "      <th>cluster</th>\n",
       "    </tr>\n",
       "  </thead>\n",
       "  <tbody>\n",
       "    <tr>\n",
       "      <th>0</th>\n",
       "      <td>34.0444</td>\n",
       "      <td>-118.2628</td>\n",
       "      <td>1</td>\n",
       "    </tr>\n",
       "    <tr>\n",
       "      <th>5</th>\n",
       "      <td>34.0415</td>\n",
       "      <td>-118.2620</td>\n",
       "      <td>7</td>\n",
       "    </tr>\n",
       "    <tr>\n",
       "      <th>50</th>\n",
       "      <td>34.0466</td>\n",
       "      <td>-118.2590</td>\n",
       "      <td>1</td>\n",
       "    </tr>\n",
       "    <tr>\n",
       "      <th>101</th>\n",
       "      <td>34.0570</td>\n",
       "      <td>-118.2508</td>\n",
       "      <td>0</td>\n",
       "    </tr>\n",
       "    <tr>\n",
       "      <th>117</th>\n",
       "      <td>34.0438</td>\n",
       "      <td>-118.2547</td>\n",
       "      <td>7</td>\n",
       "    </tr>\n",
       "  </tbody>\n",
       "</table>\n",
       "</div>"
      ],
      "text/plain": [
       "         LAT       LON  cluster\n",
       "0    34.0444 -118.2628        1\n",
       "5    34.0415 -118.2620        7\n",
       "50   34.0466 -118.2590        1\n",
       "101  34.0570 -118.2508        0\n",
       "117  34.0438 -118.2547        7"
      ]
     },
     "execution_count": 52,
     "metadata": {},
     "output_type": "execute_result"
    }
   ],
   "source": [
    "n_clusters = 10\n",
    "kmeans_central = KMeans(n_clusters=n_clusters, random_state=42)\n",
    "kmeans_central.fit(df_spatial)\n",
    "df_spatial[\"cluster\"] = kmeans_central.labels_\n",
    "df_spatial.head()"
   ]
  },
  {
   "cell_type": "code",
   "execution_count": 56,
   "metadata": {},
   "outputs": [
    {
     "name": "stdout",
     "output_type": "stream",
     "text": [
      "46462\n"
     ]
    }
   ],
   "source": [
    "m = folium.Map(location=[df_spatial['LAT'].mean(), df_spatial['LON'].mean()], zoom_start=20)\n",
    "colors = ['red', 'blue', 'green', 'purple', 'orange', 'darkred', 'lightred', 'darkblue', 'cadetblue', 'darkpurple', 'white', 'pink', 'lightblue', 'lightgreen', 'gray', 'black', 'lightgray', 'red', 'blue', 'green', 'purple']\n",
    "# Add points to the map\n",
    "count = 0\n",
    "for i, row in df_spatial.iterrows():\n",
    "    count+=1\n",
    "    folium.CircleMarker(\n",
    "        location=(row['LAT'], row['LON']),\n",
    "        radius=8,\n",
    "        color=colors[int(row['cluster'])],\n",
    "        fill=True,\n",
    "        fill_color=colors[int(row['cluster'])],\n",
    "        fill_opacity=0.6,\n",
    "        popup=f\"Cluster: {int(row['cluster'])}\"\n",
    "    ).add_to(m)\n",
    "print(count)\n",
    "\n",
    "m.save('markers_central_10_kmeans.html')"
   ]
  },
  {
   "cell_type": "code",
   "execution_count": 58,
   "metadata": {},
   "outputs": [
    {
     "name": "stderr",
     "output_type": "stream",
     "text": [
      "/var/folders/pf/n3d61f6d37g3nzd2rjz424b40000gn/T/ipykernel_62333/2863074408.py:14: UserWarning: No artists with labels found to put in legend.  Note that artists whose label start with an underscore are ignored when legend() is called with no argument.\n",
      "  plt.legend()\n"
     ]
    },
    {
     "data": {
      "image/png": "[encoded data removed]",
      "text/plain": [
       "<Figure size 1000x600 with 1 Axes>"
      ]
     },
     "metadata": {},
     "output_type": "display_data"
    }
   ],
   "source": [
    "# Plot KDE for each cluster\n",
    "plt.figure(figsize=(10, 6))\n",
    "for cluster_id in np.unique(df_spatial[\"cluster\"]):\n",
    "    if cluster_id == -1:\n",
    "        continue  # Skip noise points\n",
    "\n",
    "    cluster_data = df_spatial[df_spatial[\"cluster\"] == cluster_id]\n",
    "    sns.kdeplot(x=cluster_data[\"LON\"], y=cluster_data[\"LAT\"], \n",
    "                fill=True, label=f\"Cluster {cluster_id}\", alpha=0.5)\n",
    "\n",
    "plt.title(\"Spatial KDE for Each Cluster\")\n",
    "plt.xlabel(\"Longitude\")\n",
    "plt.ylabel(\"Latitude\")\n",
    "plt.legend()\n",
    "plt.show()"
   ]
  },
  {
   "cell_type": "markdown",
   "metadata": {},
   "source": [
    "Find the hotspots for each clusters."
   ]
  },
  {
   "cell_type": "code",
   "execution_count": 65,
   "metadata": {},
   "outputs": [],
   "source": [
    "densest_points = []\n",
    "for cluster_id in np.unique(df_spatial[\"cluster\"]):\n",
    "    if cluster_id == -1:\n",
    "        continue  # Skip noise points\n",
    "\n",
    "    cluster_data = df_spatial[df_spatial[\"cluster\"] == cluster_id]\n",
    "    \n",
    "    # Apply KDE on cluster\n",
    "    kde = gaussian_kde(cluster_data[['LAT', 'LON']].T)\n",
    "    \n",
    "    # Define grid for KDE evaluation\n",
    "    lat_min, lat_max = cluster_data['LAT'].min() - 0.01, cluster_data['LAT'].max() + 0.01\n",
    "    lon_min, lon_max = cluster_data['LON'].min() - 0.01, cluster_data['LON'].max() + 0.01\n",
    "    lat_grid, lon_grid = np.mgrid[lat_min:lat_max:100j, lon_min:lon_max:100j]\n",
    "    positions = np.vstack([lat_grid.ravel(), lon_grid.ravel()])\n",
    "    density = kde(positions).reshape(lat_grid.shape)\n",
    "    \n",
    "    # Find the index of the maximum density value\n",
    "    max_density_index = np.unravel_index(np.argmax(density), density.shape)\n",
    "    max_density_coords = lat_grid[max_density_index], lon_grid[max_density_index]\n",
    "    densest_points.append(max_density_coords)\n"
   ]
  },
  {
   "cell_type": "code",
   "execution_count": 73,
   "metadata": {},
   "outputs": [],
   "source": [
    "lat, lon = zip(*densest_points)\n",
    "mean_lat = sum(lat)/len(lat)\n",
    "mean_lon = sum(lon)/len(lon)\n"
   ]
  },
  {
   "cell_type": "code",
   "execution_count": 77,
   "metadata": {},
   "outputs": [
    {
     "name": "stdout",
     "output_type": "stream",
     "text": [
      "10\n"
     ]
    }
   ],
   "source": [
    "# Initialize map centered around mean latitude and longitude\n",
    "m = folium.Map(location=[mean_lat, mean_lon], zoom_start=15)\n",
    "colors = ['red', 'blue', 'green', 'purple', 'orange', 'darkred', 'lightred', 'darkblue', 'cadetblue', 'darkpurple', 'white', 'pink', 'lightblue', 'lightgreen', 'gray', 'black', 'lightgray', 'red', 'blue', 'green', 'purple']\n",
    "# Add points to the map\n",
    "count = 0\n",
    "for i, location in enumerate(densest_points):\n",
    "    count+=1\n",
    "    folium.CircleMarker(\n",
    "        location=(location[0], location[1]),\n",
    "        radius=8,\n",
    "        color=colors[i],\n",
    "        fill=True,\n",
    "        fill_color=colors[i],\n",
    "        fill_opacity=0.6\n",
    "    ).add_to(m)\n",
    "print(count)\n",
    "\n",
    "m.save('markers_hotspots_kde.html')  # Display map in Jupyter Notebook or save with m.save('map.html')"
   ]
  },
  {
   "cell_type": "code",
   "execution_count": 78,
   "metadata": {},
   "outputs": [
    {
     "name": "stdout",
     "output_type": "stream",
     "text": [
      "[(34.05148181818182, -118.24846262626262), (34.048346464646464, -118.26297575757576), (34.04564242424242, -118.23569292929294), (34.056265656565664, -118.23746565656565), (34.04675454545455, -118.2518797979798), (34.04220404040404, -118.24699090909091), (34.04067272727273, -118.26442828282828), (34.04231818181818, -118.25600707070707), (34.0495101010101, -118.24588080808081), (34.05615252525253, -118.23196060606061)]\n"
     ]
    }
   ],
   "source": [
    "print(densest_points)"
   ]
  },
  {
   "cell_type": "code",
   "execution_count": 62,
   "metadata": {},
   "outputs": [],
   "source": [
    "# Apply KDE\n",
    "kde = gaussian_kde(df_spatial[['LAT', 'LON']].T)\n",
    "\n",
    "# Define grid for KDE evaluation\n",
    "lat_min, lat_max = df_spatial['LAT'].min() - 0.01, df_spatial['LAT'].max() + 0.01\n",
    "lon_min, lon_max = df_spatial['LON'].min() - 0.01, df_spatial['LON'].max() + 0.01\n",
    "lat_grid, lon_grid = np.mgrid[lat_min:lat_max:100j, lon_min:lon_max:100j]\n",
    "positions = np.vstack([lat_grid.ravel(), lon_grid.ravel()])\n",
    "density = kde(positions).reshape(lat_grid.shape)\n",
    "\n",
    "# Find the index of the maximum density value\n",
    "max_density_index = np.unravel_index(np.argmax(density), density.shape)\n",
    "max_density_coords = lat_grid[max_density_index], lon_grid[max_density_index]"
   ]
  },
  {
   "cell_type": "code",
   "execution_count": 63,
   "metadata": {},
   "outputs": [
    {
     "data": {
      "image/png": "[encoded data removed]",
      "text/plain": [
       "<Figure size 1000x600 with 1 Axes>"
      ]
     },
     "metadata": {},
     "output_type": "display_data"
    }
   ],
   "source": [
    "# Plot KDE and highlight the highest density point\n",
    "plt.figure(figsize=(10, 6))\n",
    "sns.kdeplot(x=df_spatial['LON'], y=df_spatial['LAT'], fill=True, cmap=\"viridis\")\n",
    "plt.scatter(*max_density_coords, color='red', s=50, label=\"Highest Density Point\")\n",
    "plt.legend()\n",
    "plt.title(\"KDE with Highest Density Point Marked\")\n",
    "plt.xlabel(\"Longitude\")\n",
    "plt.ylabel(\"Latitude\")\n",
    "plt.show()\n"
   ]
  },
  {
   "cell_type": "code",
   "execution_count": 64,
   "metadata": {},
   "outputs": [
    {
     "name": "stdout",
     "output_type": "stream",
     "text": [
      "Highest Density Point Coordinates: (34.04579696969697, -118.25098181818181)\n"
     ]
    }
   ],
   "source": [
    "print(\"Highest Density Point Coordinates:\", max_density_coords)\n"
   ]
  },
  {
   "cell_type": "markdown",
   "metadata": {},
   "source": [
    "## Using Elbow Method to determine the best K"
   ]
  },
  {
   "cell_type": "code",
   "execution_count": 37,
   "metadata": {},
   "outputs": [],
   "source": [
    "import matplotlib.pyplot as plt\n",
    "from sklearn.cluster import KMeans\n",
    "wcss = []  # List to store WCSS for each k\n",
    "\n",
    "# Loop through a range of k values\n",
    "for k in range(1, 20):\n",
    "    kmeans = KMeans(n_clusters=k, random_state=42)\n",
    "    kmeans.fit(df_clustering_encoded)  # Fit K-means\n",
    "    wcss.append(kmeans.inertia_)  # Append WCSS (inertia) for this k\n"
   ]
  },
  {
   "cell_type": "code",
   "execution_count": 38,
   "metadata": {},
   "outputs": [
    {
     "data": {
      "image/png": "[encoded data removed]",
      "text/plain": [
       "<Figure size 640x480 with 1 Axes>"
      ]
     },
     "metadata": {},
     "output_type": "display_data"
    }
   ],
   "source": [
    "# Plotting the WCSS values for each k\n",
    "plt.plot(range(1, 20), wcss, marker='o')\n",
    "plt.xlabel(\"Number of Clusters (k)\")\n",
    "plt.ylabel(\"Within-Cluster Sum of Squares (WCSS)\")\n",
    "plt.title(\"Elbow Method for Optimal k\")\n",
    "plt.show()"
   ]
  },
  {
   "cell_type": "code",
   "execution_count": 40,
   "metadata": {},
   "outputs": [
    {
     "data": {
      "text/html": [
       "<div>\n",
       "<style scoped>\n",
       "    .dataframe tbody tr th:only-of-type {\n",
       "        vertical-align: middle;\n",
       "    }\n",
       "\n",
       "    .dataframe tbody tr th {\n",
       "        vertical-align: top;\n",
       "    }\n",
       "\n",
       "    .dataframe thead th {\n",
       "        text-align: right;\n",
       "    }\n",
       "</style>\n",
       "<table border=\"1\" class=\"dataframe\">\n",
       "  <thead>\n",
       "    <tr style=\"text-align: right;\">\n",
       "      <th></th>\n",
       "      <th>LAT</th>\n",
       "    </tr>\n",
       "    <tr>\n",
       "      <th>cluster</th>\n",
       "      <th></th>\n",
       "    </tr>\n",
       "  </thead>\n",
       "  <tbody>\n",
       "    <tr>\n",
       "      <th>0</th>\n",
       "      <td>5475</td>\n",
       "    </tr>\n",
       "    <tr>\n",
       "      <th>5</th>\n",
       "      <td>5461</td>\n",
       "    </tr>\n",
       "    <tr>\n",
       "      <th>7</th>\n",
       "      <td>5194</td>\n",
       "    </tr>\n",
       "    <tr>\n",
       "      <th>2</th>\n",
       "      <td>4984</td>\n",
       "    </tr>\n",
       "    <tr>\n",
       "      <th>3</th>\n",
       "      <td>4881</td>\n",
       "    </tr>\n",
       "    <tr>\n",
       "      <th>6</th>\n",
       "      <td>4480</td>\n",
       "    </tr>\n",
       "    <tr>\n",
       "      <th>9</th>\n",
       "      <td>4262</td>\n",
       "    </tr>\n",
       "    <tr>\n",
       "      <th>4</th>\n",
       "      <td>4046</td>\n",
       "    </tr>\n",
       "    <tr>\n",
       "      <th>8</th>\n",
       "      <td>3971</td>\n",
       "    </tr>\n",
       "    <tr>\n",
       "      <th>1</th>\n",
       "      <td>3708</td>\n",
       "    </tr>\n",
       "  </tbody>\n",
       "</table>\n",
       "</div>"
      ],
      "text/plain": [
       "          LAT\n",
       "cluster      \n",
       "0        5475\n",
       "5        5461\n",
       "7        5194\n",
       "2        4984\n",
       "3        4881\n",
       "6        4480\n",
       "9        4262\n",
       "4        4046\n",
       "8        3971\n",
       "1        3708"
      ]
     },
     "execution_count": 40,
     "metadata": {},
     "output_type": "execute_result"
    }
   ],
   "source": [
    "df_clustering_encoded[[\"LAT\", \"cluster\"]].groupby(\"cluster\").count().sort_values(by=\"LAT\", ascending=False)"
   ]
  },
  {
   "cell_type": "code",
   "execution_count": 41,
   "metadata": {},
   "outputs": [],
   "source": [
    "# Initialize map centered around mean latitude and longitude\n",
    "m = folium.Map(location=[df_clustering_encoded['LAT'].mean(), df_clustering_encoded['LON'].mean()], zoom_start=12)\n",
    "colors = ['red', 'blue', 'green', 'purple', 'orange', 'darkred', 'lightred', 'beige', 'darkblue', 'cadetblue', 'darkpurple', 'white', 'pink', 'lightblue', 'lightgreen', 'gray', 'black', 'lightgray', 'red', 'blue', 'green', 'purple', 'lightblue', 'lightgreen', 'gray', 'black']\n",
    "marker_cluster = MarkerCluster().add_to(m)\n",
    "# Add points to the map\n",
    "for i, row in df_clustering_encoded.iterrows():\n",
    "    folium.CircleMarker(\n",
    "        location=(row['LAT'], row['LON']),\n",
    "        radius=4,\n",
    "        color=colors[row['cluster']],\n",
    "        fill=True,\n",
    "        fill_color=colors[row['cluster']],\n",
    "        fill_opacity=0.6,\n",
    "        popup=f\"Cluster: {row['cluster']}\"\n",
    "    ).add_to(marker_cluster)\n",
    "\n",
    "m.save('central_cluster_k-means10.html')"
   ]
  },
  {
   "cell_type": "code",
   "execution_count": 43,
   "metadata": {},
   "outputs": [
    {
     "name": "stdout",
     "output_type": "stream",
     "text": [
      "46462\n"
     ]
    }
   ],
   "source": [
    "# Initialize map centered around mean latitude and longitude\n",
    "m = folium.Map(location=[df_clustering_encoded['LAT'].mean(), df_clustering_encoded['LON'].mean()], zoom_start=20)\n",
    "colors = ['red', 'blue', 'green', 'purple', 'orange', 'darkred', 'lightred', 'beige', 'darkblue', 'cadetblue', 'darkpurple', 'white', 'pink', 'lightblue', 'lightgreen', 'gray', 'black', 'lightgray', 'red', 'blue', 'green', 'purple']\n",
    "# Add points to the map\n",
    "count = 0\n",
    "for i, row in df_clustering_encoded.iterrows():\n",
    "    count+=1\n",
    "    folium.CircleMarker(\n",
    "        location=(row['LAT'], row['LON']),\n",
    "        radius=8,\n",
    "        color=colors[row['cluster']],\n",
    "        fill=True,\n",
    "        fill_color=colors[row['cluster']],\n",
    "        fill_opacity=0.6,\n",
    "        popup=f\"Cluster: {row['cluster']}\"\n",
    "    ).add_to(m)\n",
    "print(count)\n",
    "\n",
    "m.save('markers_central_10_kmeans.html')  # Display map in Jupyter Notebook or save with m.save('map.html')\n"
   ]
  },
  {
   "cell_type": "code",
   "execution_count": null,
   "metadata": {},
   "outputs": [],
   "source": [
    "# Plot KDE for each cluster\n",
    "plt.figure(figsize=(10, 6))\n",
    "for cluster_id in np.unique(clusters):\n",
    "    if cluster_id == -1:\n",
    "        continue  # Skip noise points\n",
    "\n",
    "    cluster_data = data[clusters == cluster_id]\n",
    "    sns.kdeplot(x=cluster_data[:, 1], y=cluster_data[:, 0], \n",
    "                fill=True, label=f\"Cluster {cluster_id}\", alpha=0.5)\n",
    "\n",
    "plt.title(\"Spatial KDE for Each Cluster\")\n",
    "plt.xlabel(\"Longitude\")\n",
    "plt.ylabel(\"Latitude\")\n",
    "plt.legend()\n",
    "plt.show()"
   ]
  },
  {
   "cell_type": "markdown",
   "metadata": {},
   "source": [
    "1 - Filter AREA 1\n",
    "- lat\n",
    "- lon\n",
    "- day\n",
    "- hour\n",
    "- predict (1am)\n",
    "RMSE \n",
    "2 - all area\n",
    "- lat\n",
    "- lon\n",
    "- day\n",
    "- hour (4pm)\n",
    "RSME\n",
    "\n",
    "10 lat lon\n",
    "x 7 day = 1-7\n",
    "70 prediction hour\n",
    "\n",
    "Monday\n",
    "- 3 shifts \n",
    "    - hotspost (routing)\n",
    "genetic algorithm - 1, 2, 3, 4, 5\n",
    "openstreet api - proper routing (traffic)\n",
    "\n",
    "0:00 - 7.59\n",
    "8.00 - 3.59\n",
    "4pm - 11.59pm"
   ]
  }
 ],
 "metadata": {
  "kernelspec": {
   "display_name": "pyspark_env",
   "language": "python",
   "name": "python3"
  },
  "language_info": {
   "codemirror_mode": {
    "name": "ipython",
    "version": 3
   },
   "file_extension": ".py",
   "mimetype": "text/x-python",
   "name": "python",
   "nbconvert_exporter": "python",
   "pygments_lexer": "ipython3",
   "version": "3.12.7"
  }
 },
 "nbformat": 4,
 "nbformat_minor": 2
}
